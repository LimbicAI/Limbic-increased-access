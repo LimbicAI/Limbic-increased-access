{
 "cells": [
  {
   "cell_type": "markdown",
   "id": "2a21aff4",
   "metadata": {},
   "source": [
    "#### Code to analyse the demogrpahic data for pre- and post-implementation for services using the AI-enabled self-referral tool. \n",
    "We are using quaterly data as NHS Digital only reports demographic information quaterly\n",
    "\n",
    "The quaters reported are different to actual yearly quaters, e.g. their Q4 2020/21 is actually Q1 of 2021 "
   ]
  },
  {
   "cell_type": "markdown",
   "id": "5252a209",
   "metadata": {},
   "source": [
    "## Prepare and clean data"
   ]
  },
  {
   "cell_type": "code",
   "execution_count": 70,
   "id": "aeb67735",
   "metadata": {},
   "outputs": [],
   "source": [
    "import requests\n",
    "import pandas as pd\n",
    "import numpy as np\n",
    "from dotenv import load_dotenv\n",
    "import os\n",
    "from datetime import date\n",
    "import math\n",
    "from scipy.stats import chi2_contingency \n",
    "import datetime\n",
    "from dateutil.relativedelta import relativedelta as relativedelta\n",
    "from iteration_utilities import deepflatten\n",
    "import matplotlib.pyplot as plt\n",
    "from scipy.spatial.distance import cdist\n",
    "import io\n",
    "import sys\n",
    "from numpy.linalg import norm\n",
    "import glob\n",
    "\n",
    "import statsmodels.formula.api as smf\n",
    "import statsmodels.api as sm\n",
    "import scipy\n",
    "\n",
    "from scipy.spatial.distance import cityblock\n",
    "\n",
    "\n",
    "data_folder=\"/Users/johanna/Documents/GitHub/Limbic-increased-access/Quaterly data\"\n",
    "folder_figures_save='/Users/johanna/Library/CloudStorage/GoogleDrive-johanna@limbic.ai/Shared drives/05_Research/Publications (research papers)/Clinical/Increased_Access/Figures/'\n",
    "\n"
   ]
  },
  {
   "cell_type": "markdown",
   "id": "67307d03",
   "metadata": {},
   "source": [
    "### Combine and clean data"
   ]
  },
  {
   "cell_type": "code",
   "execution_count": 71,
   "id": "eaf3fd35",
   "metadata": {},
   "outputs": [],
   "source": [
    "#upload the data and merge\n",
    "os.chdir(data_folder)\n",
    "extension = 'csv'\n",
    "all_filenames = [i for i in glob.glob('*.{}'.format(extension))]\n",
    "\n",
    "#combine all csv files\n",
    "combined_csv = pd.concat([pd.read_csv(f, dtype = {'ProviderName': str}, na_values = '*') for f in all_filenames ]) \n",
    "\n",
    "# change 'surrey iapt' to \"mind matters surrey nhs\" as their name was changed from March 2022\n",
    "combined_csv.loc[combined_csv[\"ProviderName\"] == 'SURREY IAPT', 'ProviderName'] = 'MIND MATTERS SURREY NHS'\n",
    "\n",
    "#only include the referral data\n",
    "data_referrals = combined_csv[combined_csv['MEASURE_NAME'] == 'Count_ReferralsReceived']\n",
    "\n",
    "#drop the total for all providers\n",
    "data_referrals = data_referrals[~(data_referrals['Provider'] == 'All_Provider')]\n",
    "\n",
    "# replace nans for 1 service with the correct service name\n",
    "data_referrals.loc[data_referrals['Provider'] == 'RTV', 'ProviderName'] = 'NORTH WEST BOROUGHS HEALTHCARE NHS FOUNDATION TRUST'\n",
    "\n"
   ]
  },
  {
   "cell_type": "code",
   "execution_count": 72,
   "id": "d6d6941f",
   "metadata": {},
   "outputs": [],
   "source": [
    "#define the pre and post quaters for each service\n",
    "\n",
    "input_data_insight={\"service\":'insight',\n",
    "    'pre':'Quarter 2 2021/22', #Q3 2021\n",
    "    'post':'Quarter 4 2021/22', # Q1 2022\n",
    "} \n",
    "\n",
    "input_data_surrey={\"service\":'mind matters surrey nhs', #name was changed to \"mind matters surrey nhs\" from March 2022\n",
    "    'pre':'Quarter 1 2021/22', #Q2 2021\n",
    "    'post':'Quarter 3 2021/22', #Q4 2021\n",
    "} #  went live 26th July 2021 \n",
    "\n",
    "input_data_trent={\"service\":'trent',\n",
    "    'pre':'Quarter 1 2021/22', #Q2 2021\n",
    "    'post':'Quarter 3 2021/22', #Q4 2021\n",
    "}  #trent went live 6th July 2021\n",
    "\n",
    "\n",
    "input_data_vita={\"service\":'vita health',\n",
    "    'pre':'Quarter 3 2020/21', #Q4 2020\n",
    "    'post':'Quarter 4 2020/21', #Q1 2021\n",
    "} \n",
    "\n",
    "inputs_services_tool=[input_data_insight, input_data_trent, input_data_vita, input_data_surrey]"
   ]
  },
  {
   "cell_type": "code",
   "execution_count": 73,
   "id": "b0d17ef4",
   "metadata": {},
   "outputs": [],
   "source": [
    "#function to get data for one service on certain demographics\n",
    "def get_data_for_each_service(data_all, inputs_services, demographics):\n",
    "\n",
    "    service_ind = []\n",
    "    service = inputs_services['service']\n",
    "\n",
    "    for k in data_all['ProviderName']: #tag the provider\n",
    "        if k.lower().startswith(service.lower()):\n",
    "            service_ind.append(True)\n",
    "        else: \n",
    "            service_ind.append(False)\n",
    "    data_all['service_index']=np.array(service_ind)\n",
    "    data_provider=data_all[data_all['service_index']==True]\n",
    "\n",
    "    pre_quater = inputs_services['pre'] #pre timeline\n",
    "    post_quater = inputs_services['post'] #post timeline\n",
    "\n",
    "    pre_period = data_provider[data_provider['Quarter'] == pre_quater] #just include pre data\n",
    "    post_period = data_provider[data_provider['Quarter'] == post_quater] #just include post data\n",
    "\n",
    "    pre_measure = pre_period[pre_period['VariableType'] == demographics] #take pre period for the specific demographics\n",
    "    post_measure = post_period[post_period['VariableType'] == demographics]\n",
    "\n",
    "    new_pre_table = pre_measure[['ProviderName','VariableA','VariableB','MEASURE_VALUE_SUPPRESSED']]\n",
    "    new_pre_table = new_pre_table.rename(columns={\"MEASURE_VALUE_SUPPRESSED\": \"PreTotalReferrals\"})\n",
    "    new_pre_table['Provider'] = service\n",
    "\n",
    "    new_post_table = post_measure[['ProviderName','VariableA','VariableB','MEASURE_VALUE_SUPPRESSED']]\n",
    "    new_post_table = new_post_table.rename(columns={\"MEASURE_VALUE_SUPPRESSED\": \"PostTotalReferrals\"})\n",
    "    new_post_table['Provider'] = service\n",
    "\n",
    "    service_data = new_pre_table.merge(new_post_table)\n",
    "    \n",
    "    return service_data"
   ]
  },
  {
   "cell_type": "markdown",
   "id": "c682e8d4",
   "metadata": {},
   "source": [
    "## Find referrals for certain demographics for the services using the IA-enabled self-referral tool\n",
    "\n",
    "Have to change the demographics variable to find numbers for each different demographics!"
   ]
  },
  {
   "cell_type": "code",
   "execution_count": 103,
   "id": "808a244d",
   "metadata": {},
   "outputs": [],
   "source": [
    "#This needs to be changed depending on what you want to look at\n",
    "demographics = 'Sexual Orientation' # 'Ethnic Group'  'Gender' 'Sexual Orientation'\n"
   ]
  },
  {
   "cell_type": "code",
   "execution_count": 104,
   "id": "56dbb8f2",
   "metadata": {},
   "outputs": [],
   "source": [
    "#create empty datadrame\n",
    "appended_data = pd.DataFrame(columns = ['ProviderName','VariableA','VariableB','PreTotalReferrals','PostTotalReferrals'])\n",
    "\n",
    "#fill the dataframe for all services\n",
    "for i, input_data in enumerate(inputs_services_tool):\n",
    "\n",
    "    output = get_data_for_each_service(data_referrals, input_data, demographics) #dataframe for one service\n",
    "    appended_data = pd.concat([appended_data, output])\n",
    "    "
   ]
  },
  {
   "cell_type": "code",
   "execution_count": 105,
   "id": "0480cac9",
   "metadata": {},
   "outputs": [],
   "source": [
    "pre_tool_demo_all = []\n",
    "post_tool_demo_all = []\n",
    "demographic_all = []\n",
    "pre_post_diff_all = []\n",
    "\n",
    "for i in range(0,len(appended_data['VariableA'].unique())):\n",
    "    \n",
    "    demographic = sorted(appended_data['VariableA'].unique())[i]\n",
    "    \n",
    "    pre_tool_total = np.sum(appended_data[appended_data['VariableA'] == sorted(appended_data['VariableA'].unique())[i]]['PreTotalReferrals'])\n",
    "    \n",
    "    post_tool_total = np.sum(appended_data[appended_data['VariableA'] == sorted(appended_data['VariableA'].unique())[i]]['PostTotalReferrals'])\n",
    "    \n",
    "    tool_pre_post_diff = post_tool_total - pre_tool_total\n",
    "            \n",
    "    pre_tool_demo_all.append(pre_tool_total)\n",
    "    post_tool_demo_all.append(post_tool_total)\n",
    "    demographic_all.append(demographic)\n",
    "    pre_post_diff_all.append(tool_pre_post_diff)\n",
    "    \n",
    "tool_demo_all = {'demographic': demographic_all,\n",
    "                'pre_tool': pre_tool_demo_all,\n",
    "                'post_tool': post_tool_demo_all,\n",
    "                'pre_post_diff_tool' : pre_post_diff_all} \n"
   ]
  },
  {
   "cell_type": "markdown",
   "id": "31d36dc8",
   "metadata": {},
   "source": [
    "## Plots"
   ]
  },
  {
   "cell_type": "markdown",
   "id": "a6e31b7c",
   "metadata": {},
   "source": [
    "### Plot percentage change for gender for Figure 3 and run the stats\n",
    "\n",
    "NB! Ensure you have chnaged the demographics variable to 'Gender' above"
   ]
  },
  {
   "cell_type": "code",
   "execution_count": 97,
   "id": "27853f8a",
   "metadata": {},
   "outputs": [
    {
     "name": "stdout",
     "output_type": "stream",
     "text": [
      "Female 18.25415963346998\n",
      "Indeterminate (unable to be classified as either male or female) 235.0\n",
      "Male 15.601023017902813\n",
      "Not stated/Not known/Invalid 0.0\n"
     ]
    }
   ],
   "source": [
    "for i in range(0,len(tool_demo_all['demographic'])):\n",
    "\n",
    "    print(tool_demo_all['demographic'][i], (tool_demo_all['pre_post_diff_tool'][i]/tool_demo_all['pre_tool'][i])*100)"
   ]
  },
  {
   "cell_type": "code",
   "execution_count": 98,
   "id": "d947f98a",
   "metadata": {},
   "outputs": [],
   "source": [
    "# add the aeroport font for the plots\n",
    "import matplotlib.font_manager as fm\n",
    "\n",
    "font_path = '/Users/johanna/Downloads/Aeroport.ttf'  # the location of the font file\n",
    "my_font = fm.FontProperties(fname=font_path)  # get the font based on the font_path"
   ]
  },
  {
   "cell_type": "code",
   "execution_count": 99,
   "id": "aff2f340",
   "metadata": {},
   "outputs": [
    {
     "data": {
      "image/png": "[encoded data removed]",
      "text/plain": [
       "<Figure size 720x576 with 1 Axes>"
      ]
     },
     "metadata": {
      "needs_background": "light"
     },
     "output_type": "display_data"
    }
   ],
   "source": [
    "fig, ax = plt.subplots(figsize=(10, 8))\n",
    "\n",
    "change_lim=[]\n",
    "category=[]\n",
    "for p in range(len(tool_demo_all['demographic'])): \n",
    "    if tool_demo_all['demographic'][p]!='Not stated/Not known/Invalid':\n",
    "        change_lim.append(((np.array(tool_demo_all['pre_post_diff_tool'])[[p]].sum()/np.array(tool_demo_all['pre_tool'])[[p]].sum()))*100)\n",
    "        category.append(tool_demo_all['demographic'][p])\n",
    "\n",
    "x=[z for z in range(len(change_lim))]\n",
    "\n",
    "pl = plt.bar(x, [round(num) for num in change_lim], color = '#fdb6d3', width = 0.6)\n",
    "\n",
    "ax.set_xticks(x, ['Female', 'Non-binary', 'Male'], fontsize=23, rotation=90, font = my_font)\n",
    "ax.set_ylabel('Percentage change (%)', fontsize=26,font = my_font, labelpad=15)\n",
    "\n",
    "\n",
    "ax.bar_label(pl,fontsize=24, font = my_font, padding = 5)\n",
    "\n",
    "\n",
    "ax.tick_params(axis='x', which='major', pad=15)\n",
    "\n",
    "plt.yticks(fontsize=20)\n",
    "\n",
    "plt.ylim(0,290)\n",
    "\n",
    "plt.axhline(15, color= '#595959', ls='--', linewidth = 2.5)\n",
    "\n",
    "\n",
    "image_format = 'png' # e.g .png, .svg, etc.\n",
    "image_name = folder_figures_save+'gender_referrals.png'\n",
    "\n",
    "# fig.savefig(image_name, format=image_format, bbox_inches=\"tight\", dpi=1200)\n"
   ]
  },
  {
   "cell_type": "code",
   "execution_count": 100,
   "id": "eec0bf09",
   "metadata": {},
   "outputs": [],
   "source": [
    "# Change data to single-patient level\n",
    "\n",
    "change_variable=[]\n",
    "category=[]\n",
    "cat_order=['Female',\n",
    "'Indeterminate (unable to be classified as either male or female)',\n",
    "'Male',\n",
    "'Not stated/Not known/Invalid'\n",
    "]\n",
    "\n",
    "for i in range(len(cat_order)): \n",
    "    p=cat_order[i]\n",
    "    a=np.array(tool_demo_all['demographic'])\n",
    "\n",
    "    ind=np.where(a==p)[0][0]\n",
    "    if tool_demo_all['demographic'][ind]!='Not stated/Not known/Invalid':\n",
    "        change_variable.append(np.array([0]*int(tool_demo_all['pre_tool'][ind]))) #pre tool 0 \n",
    "        change_variable.append(np.array([1]*int(tool_demo_all['post_tool'][ind]))) # post tool 1 \n",
    "\n",
    "        category.append(np.array([i]*int(tool_demo_all['pre_tool'][ind]+tool_demo_all['post_tool'][ind])))\n",
    "\n",
    "change_variable=np.array(list(deepflatten(change_variable)))\n",
    "category=np.array(list(deepflatten(category)))\n",
    "\n",
    "data=pd.DataFrame({'DV':change_variable, 'demographic':category})\n"
   ]
  },
  {
   "cell_type": "code",
   "execution_count": 101,
   "id": "dd7fca62",
   "metadata": {},
   "outputs": [
    {
     "name": "stdout",
     "output_type": "stream",
     "text": [
      "Optimization terminated successfully.\n",
      "         Current function value: 0.688943\n",
      "         Iterations 5\n"
     ]
    },
    {
     "data": {
      "text/html": [
       "<table class=\"simpletable\">\n",
       "<caption>Logit Regression Results</caption>\n",
       "<tr>\n",
       "  <th>Dep. Variable:</th>          <td>DV</td>        <th>  No. Observations:  </th>  <td> 66765</td>  \n",
       "</tr>\n",
       "<tr>\n",
       "  <th>Model:</th>                 <td>Logit</td>      <th>  Df Residuals:      </th>  <td> 66762</td>  \n",
       "</tr>\n",
       "<tr>\n",
       "  <th>Method:</th>                 <td>MLE</td>       <th>  Df Model:          </th>  <td>     2</td>  \n",
       "</tr>\n",
       "<tr>\n",
       "  <th>Date:</th>            <td>Fri, 12 May 2023</td> <th>  Pseudo R-squ.:     </th> <td>0.001089</td> \n",
       "</tr>\n",
       "<tr>\n",
       "  <th>Time:</th>                <td>16:39:11</td>     <th>  Log-Likelihood:    </th> <td> -45997.</td> \n",
       "</tr>\n",
       "<tr>\n",
       "  <th>converged:</th>             <td>True</td>       <th>  LL-Null:           </th> <td> -46047.</td> \n",
       "</tr>\n",
       "<tr>\n",
       "  <th>Covariance Type:</th>     <td>nonrobust</td>    <th>  LLR p-value:       </th> <td>1.648e-22</td>\n",
       "</tr>\n",
       "</table>\n",
       "<table class=\"simpletable\">\n",
       "<tr>\n",
       "                  <td></td>                     <th>coef</th>     <th>std err</th>      <th>z</th>      <th>P>|z|</th>  <th>[0.025</th>    <th>0.975]</th>  \n",
       "</tr>\n",
       "<tr>\n",
       "  <th>Intercept</th>                         <td>    0.1450</td> <td>    0.014</td> <td>   10.496</td> <td> 0.000</td> <td>    0.118</td> <td>    0.172</td>\n",
       "</tr>\n",
       "<tr>\n",
       "  <th>C(demographic, Treatment(2))[T.0]</th> <td>    0.0227</td> <td>    0.017</td> <td>    1.357</td> <td> 0.175</td> <td>   -0.010</td> <td>    0.055</td>\n",
       "</tr>\n",
       "<tr>\n",
       "  <th>C(demographic, Treatment(2))[T.1]</th> <td>    1.0640</td> <td>    0.115</td> <td>    9.269</td> <td> 0.000</td> <td>    0.839</td> <td>    1.289</td>\n",
       "</tr>\n",
       "</table>"
      ],
      "text/plain": [
       "<class 'statsmodels.iolib.summary.Summary'>\n",
       "\"\"\"\n",
       "                           Logit Regression Results                           \n",
       "==============================================================================\n",
       "Dep. Variable:                     DV   No. Observations:                66765\n",
       "Model:                          Logit   Df Residuals:                    66762\n",
       "Method:                           MLE   Df Model:                            2\n",
       "Date:                Fri, 12 May 2023   Pseudo R-squ.:                0.001089\n",
       "Time:                        16:39:11   Log-Likelihood:                -45997.\n",
       "converged:                       True   LL-Null:                       -46047.\n",
       "Covariance Type:            nonrobust   LLR p-value:                 1.648e-22\n",
       "=====================================================================================================\n",
       "                                        coef    std err          z      P>|z|      [0.025      0.975]\n",
       "-----------------------------------------------------------------------------------------------------\n",
       "Intercept                             0.1450      0.014     10.496      0.000       0.118       0.172\n",
       "C(demographic, Treatment(2))[T.0]     0.0227      0.017      1.357      0.175      -0.010       0.055\n",
       "C(demographic, Treatment(2))[T.1]     1.0640      0.115      9.269      0.000       0.839       1.289\n",
       "=====================================================================================================\n",
       "\"\"\""
      ]
     },
     "execution_count": 101,
     "metadata": {},
     "output_type": "execute_result"
    }
   ],
   "source": [
    "# run the logistic regression\n",
    "log_reg = smf.logit(\"DV ~ C(demographic,Treatment(2))\", data=data).fit()\n",
    "log_reg.summary()"
   ]
  },
  {
   "cell_type": "code",
   "execution_count": 102,
   "id": "924f9c57",
   "metadata": {},
   "outputs": [
    {
     "name": "stdout",
     "output_type": "stream",
     "text": [
      "                                         OR  Lower CI  Upper CI\n",
      "Intercept                          1.156010  1.125134  1.187734\n",
      "C(demographic, Treatment(2))[T.0]  1.022951  0.989957  1.057044\n",
      "C(demographic, Treatment(2))[T.1]  2.897898  2.314072  3.629020\n"
     ]
    }
   ],
   "source": [
    "# Convert to odds ratios\n",
    "odds_ratios = pd.DataFrame(\n",
    "    {\"OR\": log_reg.params,\n",
    "        \"Lower CI\": log_reg.conf_int()[0],\n",
    "        \"Upper CI\": log_reg.conf_int()[1]}\n",
    ")\n",
    "odds_ratios = np.exp(odds_ratios)\n",
    "print(odds_ratios)"
   ]
  },
  {
   "cell_type": "markdown",
   "id": "299a766c",
   "metadata": {},
   "source": [
    "### Plot percentage change for sexuality for Figure 3 and run the stats\n",
    "NB! Ensure you have chnaged the demographics variable to 'Sexual Orientation' above"
   ]
  },
  {
   "cell_type": "code",
   "execution_count": 109,
   "id": "084e6662",
   "metadata": {},
   "outputs": [
    {
     "name": "stdout",
     "output_type": "stream",
     "text": [
      "Bi-sexual 30.16304347826087\n",
      "Gay/Lesbian 19.101123595505616\n",
      "Heterosexual 13.74185667752443\n",
      "Not stated/Not known/Invalid 38.78865979381443\n"
     ]
    }
   ],
   "source": [
    "for i in range(0,len(tool_demo_all['demographic'])):\n",
    "\n",
    "    print(tool_demo_all['demographic'][i], (tool_demo_all['pre_post_diff_tool'][i]/tool_demo_all['pre_tool'][i])*100)"
   ]
  },
  {
   "cell_type": "code",
   "execution_count": 110,
   "id": "0f618cc5",
   "metadata": {},
   "outputs": [],
   "source": [
    "# add the aeroport font for the plots\n",
    "import matplotlib.font_manager as fm\n",
    "\n",
    "font_path = '/Users/johanna/Downloads/Aeroport.ttf'  # the location of the font file\n",
    "my_font = fm.FontProperties(fname=font_path)  # get the font based on the font_path"
   ]
  },
  {
   "cell_type": "code",
   "execution_count": 111,
   "id": "d9a8ab7e",
   "metadata": {},
   "outputs": [
    {
     "data": {
      "image/png": "[encoded data removed]",
      "text/plain": [
       "<Figure size 720x576 with 1 Axes>"
      ]
     },
     "metadata": {
      "needs_background": "light"
     },
     "output_type": "display_data"
    }
   ],
   "source": [
    "fig, ax = plt.subplots(figsize=(10, 8))\n",
    "\n",
    "change_lim=[]\n",
    "category=[]\n",
    "for p in range(len(tool_demo_all['demographic'])): \n",
    "    if tool_demo_all['demographic'][p]!='Not stated/Not known/Invalid':\n",
    "        change_lim.append(((np.array(tool_demo_all['pre_post_diff_tool'])[[p]].sum()/np.array(tool_demo_all['pre_tool'])[[p]].sum()))*100)\n",
    "        category.append(tool_demo_all['demographic'][p])\n",
    "\n",
    "x=[z for z in range(len(change_lim))]\n",
    "\n",
    "pl = ax.bar(x, [round(num) for num in change_lim], color = '#fdb6d3', width = 0.6)\n",
    "\n",
    "plt.axhline(15, color= '#595959', ls='--', linewidth = 2.5)\n",
    "\n",
    "ax.set_ylabel('Percentage change (%)', fontsize=26,font = my_font, labelpad=15)\n",
    "\n",
    "ax.set_xticks(x, category, fontsize=23, rotation=90, font = my_font)\n",
    "ax.bar_label(pl,fontsize=24, font = my_font, padding = 8)\n",
    "\n",
    "ax.tick_params(axis='x', which='major', pad=15)\n",
    "\n",
    "plt.ylim(0,39)\n",
    "\n",
    "plt.yticks(fontsize=20)\n",
    "\n",
    "\n",
    "image_format = 'png' # e.g .png, .svg, etc.\n",
    "image_name = folder_figures_save+'sexuality_referrals.png'\n",
    "\n",
    "\n",
    "# fig.savefig(image_name, format=image_format, bbox_inches=\"tight\", dpi=1200)\n"
   ]
  },
  {
   "cell_type": "code",
   "execution_count": 112,
   "id": "64d8c8fd",
   "metadata": {},
   "outputs": [],
   "source": [
    "# Change data to single-patient level\n",
    "\n",
    "change_variable=[]\n",
    "category=[]\n",
    "cat_order=['Heterosexual',\n",
    "'Bi-sexual',\n",
    "'Gay/Lesbian',\n",
    "'Not stated/Not known/Invalid'\n",
    "]\n",
    "\n",
    "for i in range(len(cat_order)): \n",
    "    p=cat_order[i]\n",
    "    a=np.array(tool_demo_all['demographic'])\n",
    "\n",
    "    ind=np.where(a==p)[0][0]\n",
    "    if tool_demo_all['demographic'][ind]!='Not stated/Not known/Invalid':\n",
    "        change_variable.append(np.array([0]*int(tool_demo_all['pre_tool'][ind]))) #pre tool 0 \n",
    "        change_variable.append(np.array([1]*int(tool_demo_all['post_tool'][ind]))) # post tool 1 \n",
    "\n",
    "        category.append(np.array([i]*int(tool_demo_all['pre_tool'][ind]+tool_demo_all['post_tool'][ind])))\n",
    "\n",
    "change_variable=np.array(list(deepflatten(change_variable)))\n",
    "category=np.array(list(deepflatten(category)))\n",
    "\n",
    "data=pd.DataFrame({'DV':change_variable, 'demographic':category})\n"
   ]
  },
  {
   "cell_type": "code",
   "execution_count": 113,
   "id": "c7774f44",
   "metadata": {},
   "outputs": [
    {
     "name": "stdout",
     "output_type": "stream",
     "text": [
      "Optimization terminated successfully.\n",
      "         Current function value: 0.690569\n",
      "         Iterations 4\n"
     ]
    },
    {
     "data": {
      "text/html": [
       "<table class=\"simpletable\">\n",
       "<caption>Logit Regression Results</caption>\n",
       "<tr>\n",
       "  <th>Dep. Variable:</th>          <td>DV</td>        <th>  No. Observations:  </th>  <td> 57705</td>  \n",
       "</tr>\n",
       "<tr>\n",
       "  <th>Model:</th>                 <td>Logit</td>      <th>  Df Residuals:      </th>  <td> 57702</td>  \n",
       "</tr>\n",
       "<tr>\n",
       "  <th>Method:</th>                 <td>MLE</td>       <th>  Df Model:          </th>  <td>     2</td>  \n",
       "</tr>\n",
       "<tr>\n",
       "  <th>Date:</th>            <td>Fri, 12 May 2023</td> <th>  Pseudo R-squ.:     </th> <td>0.0002247</td>\n",
       "</tr>\n",
       "<tr>\n",
       "  <th>Time:</th>                <td>16:39:28</td>     <th>  Log-Likelihood:    </th> <td> -39849.</td> \n",
       "</tr>\n",
       "<tr>\n",
       "  <th>converged:</th>             <td>True</td>       <th>  LL-Null:           </th> <td> -39858.</td> \n",
       "</tr>\n",
       "<tr>\n",
       "  <th>Covariance Type:</th>     <td>nonrobust</td>    <th>  LLR p-value:       </th> <td>0.0001287</td>\n",
       "</tr>\n",
       "</table>\n",
       "<table class=\"simpletable\">\n",
       "<tr>\n",
       "                  <td></td>                     <th>coef</th>     <th>std err</th>      <th>z</th>      <th>P>|z|</th>  <th>[0.025</th>    <th>0.975]</th>  \n",
       "</tr>\n",
       "<tr>\n",
       "  <th>Intercept</th>                         <td>    0.1288</td> <td>    0.009</td> <td>   14.720</td> <td> 0.000</td> <td>    0.112</td> <td>    0.146</td>\n",
       "</tr>\n",
       "<tr>\n",
       "  <th>C(demographic, Treatment(0))[T.1]</th> <td>    0.1349</td> <td>    0.032</td> <td>    4.187</td> <td> 0.000</td> <td>    0.072</td> <td>    0.198</td>\n",
       "</tr>\n",
       "<tr>\n",
       "  <th>C(demographic, Treatment(0))[T.2]</th> <td>    0.0460</td> <td>    0.065</td> <td>    0.710</td> <td> 0.478</td> <td>   -0.081</td> <td>    0.173</td>\n",
       "</tr>\n",
       "</table>"
      ],
      "text/plain": [
       "<class 'statsmodels.iolib.summary.Summary'>\n",
       "\"\"\"\n",
       "                           Logit Regression Results                           \n",
       "==============================================================================\n",
       "Dep. Variable:                     DV   No. Observations:                57705\n",
       "Model:                          Logit   Df Residuals:                    57702\n",
       "Method:                           MLE   Df Model:                            2\n",
       "Date:                Fri, 12 May 2023   Pseudo R-squ.:               0.0002247\n",
       "Time:                        16:39:28   Log-Likelihood:                -39849.\n",
       "converged:                       True   LL-Null:                       -39858.\n",
       "Covariance Type:            nonrobust   LLR p-value:                 0.0001287\n",
       "=====================================================================================================\n",
       "                                        coef    std err          z      P>|z|      [0.025      0.975]\n",
       "-----------------------------------------------------------------------------------------------------\n",
       "Intercept                             0.1288      0.009     14.720      0.000       0.112       0.146\n",
       "C(demographic, Treatment(0))[T.1]     0.1349      0.032      4.187      0.000       0.072       0.198\n",
       "C(demographic, Treatment(0))[T.2]     0.0460      0.065      0.710      0.478      -0.081       0.173\n",
       "=====================================================================================================\n",
       "\"\"\""
      ]
     },
     "execution_count": 113,
     "metadata": {},
     "output_type": "execute_result"
    }
   ],
   "source": [
    "# Run the regression\n",
    "log_reg = smf.logit(\"DV ~ C(demographic,Treatment(0))\", data=data).fit()\n",
    "log_reg.summary()"
   ]
  },
  {
   "cell_type": "code",
   "execution_count": 114,
   "id": "f1cc0736",
   "metadata": {},
   "outputs": [
    {
     "name": "stdout",
     "output_type": "stream",
     "text": [
      "                                         OR  Lower CI  Upper CI\n",
      "Intercept                          1.137419  1.118085  1.157087\n",
      "C(demographic, Treatment(0))[T.1]  1.144372  1.074359  1.218948\n",
      "C(demographic, Treatment(0))[T.2]  1.047118  0.922067  1.189128\n"
     ]
    }
   ],
   "source": [
    "# Convert to odds ratios\n",
    "odds_ratios = pd.DataFrame(\n",
    "    {\"OR\": log_reg.params,\n",
    "        \"Lower CI\": log_reg.conf_int()[0],\n",
    "        \"Upper CI\": log_reg.conf_int()[1]}\n",
    ")\n",
    "odds_ratios = np.exp(odds_ratios)\n",
    "print(odds_ratios)"
   ]
  },
  {
   "cell_type": "code",
   "execution_count": null,
   "id": "fa4a79f0",
   "metadata": {},
   "outputs": [],
   "source": []
  },
  {
   "cell_type": "markdown",
   "id": "25e7e007",
   "metadata": {},
   "source": [
    "### Plot percentage change for gender for Figure 3 and run the stats\n",
    "\n",
    "NB! Ensure you have chnaged the demographics variable to 'Ethnic Group' above"
   ]
  },
  {
   "cell_type": "code",
   "execution_count": 80,
   "id": "0b5aec84",
   "metadata": {},
   "outputs": [],
   "source": [
    "#Add all minorities together for Figure 3C\n",
    "\n",
    "ethnic_groups_lim = pd.DataFrame(tool_demo_all)\n",
    "ethnic_groups_nhs = pd.DataFrame(nhs_demo_all)\n",
    "\n",
    "ethnic_groups = ethnic_groups_lim.merge(ethnic_groups_nhs)\n",
    "\n",
    "# add all miorities together\n",
    "all_other_ethnic = ethnic_groups[~ethnic_groups['demographic'] .isin(['Not stated/Not known/Invalid', 'White'])]\n",
    "ethnic_groups.loc[6]= all_other_ethnic.sum()\n"
   ]
  },
  {
   "cell_type": "code",
   "execution_count": 81,
   "id": "5f6bbdbc",
   "metadata": {},
   "outputs": [],
   "source": [
    "df = ethnic_groups[ethnic_groups['demographic'].isin(['White', 'Asian or Asian BritishBlack or Black BritishMixedOther Ethnic Groups','Not stated/Not known/Invalid'])]\n",
    "df = df.set_index('demographic')"
   ]
  },
  {
   "cell_type": "code",
   "execution_count": 82,
   "id": "78e69301",
   "metadata": {},
   "outputs": [],
   "source": [
    "# add the aeroport font for the plots\n",
    "import matplotlib.font_manager as fm\n",
    "\n",
    "font_path = '/Users/johanna/Downloads/Aeroport.ttf'  # the location of the font file\n",
    "my_font = fm.FontProperties(fname=font_path)  # get the font based on the font_path"
   ]
  },
  {
   "cell_type": "code",
   "execution_count": 83,
   "id": "e3e5f8fd",
   "metadata": {},
   "outputs": [
    {
     "data": {
      "image/png": "[encoded data removed]",
      "text/plain": [
       "<Figure size 720x576 with 1 Axes>"
      ]
     },
     "metadata": {
      "needs_background": "light"
     },
     "output_type": "display_data"
    }
   ],
   "source": [
    "fig, ax = plt.subplots(figsize=(10, 8))\n",
    "\n",
    "change_lim=[]\n",
    "category=[]\n",
    "for p in range(len(df.index.values)): \n",
    "    if df.index.values[p]!='Not stated/Not known/Invalid':\n",
    "        change_lim.append(((np.array(df['post_tool'])[[p]].sum()/np.array(df['pre_tool'])[[p]].sum())-1)*100)\n",
    "        category.append(df.index.values[p])\n",
    "\n",
    "x=[z for z in range(len(change_lim))]\n",
    "\n",
    "pl = plt.bar(x, [round(num) for num in change_lim], color = '#fdb6d3', width = 0.6)\n",
    "\n",
    "ax.set_xticks(x, ['White', 'Ethnic \\nminorities'], fontsize=23, rotation=90, font = my_font)\n",
    "ax.set_ylabel('Percentage change (%)', fontsize=26, font = my_font, labelpad=15)\n",
    "\n",
    "\n",
    "ax.bar_label(pl,fontsize=24, font = my_font, padding = 8)\n",
    "\n",
    "ax.tick_params(axis='x', which='major', pad=15)\n",
    "\n",
    "plt.yticks(fontsize=20)\n",
    "\n",
    "plt.ylim(0,39)\n",
    "\n",
    "plt.axhline(15, color= '#595959', ls='--', linewidth = 2.5)\n",
    "\n",
    "image_format = 'png' # e.g .png, .svg, etc.\n",
    "image_name = folder_figures_save+'ethnic_group_referrals.png'\n",
    "\n",
    "# fig.savefig(image_name, format=image_format, bbox_inches=\"tight\", dpi=1200)\n"
   ]
  },
  {
   "cell_type": "code",
   "execution_count": 84,
   "id": "6721eb86",
   "metadata": {},
   "outputs": [],
   "source": [
    "# Change data to single-patient level\n",
    "\n",
    "from iteration_utilities import deepflatten\n",
    "\n",
    "change_variable=[]\n",
    "category=[]\n",
    "cat_order=['White',\n",
    "     'Asian or Asian BritishBlack or Black BritishMixedOther Ethnic Groups',\n",
    "'Not stated/Not known/Invalid']\n",
    "\n",
    "for i in range(len(cat_order)): \n",
    "    p=cat_order[i]\n",
    "    a=np.array(df.index.values)\n",
    "\n",
    "    ind=np.where(a==p)[0][0]\n",
    "    if df.index.values[ind]!='Not stated/Not known/Invalid':\n",
    "        change_variable.append(np.array([0]*int(df['pre_tool'][ind]))) #pre tool 0 \n",
    "        change_variable.append(np.array([1]*int(df['post_tool'][ind]))) # post tool 1 \n",
    "\n",
    "        category.append(np.array([i]*int(df['pre_tool'][ind]+df['post_tool'][ind])))\n",
    "\n",
    "change_variable=np.array(list(deepflatten(change_variable)))\n",
    "category=np.array(list(deepflatten(category)))\n",
    "\n",
    "data=pd.DataFrame({'DV':change_variable, 'demographic':category})"
   ]
  },
  {
   "cell_type": "code",
   "execution_count": 85,
   "id": "60aad920",
   "metadata": {},
   "outputs": [
    {
     "name": "stdout",
     "output_type": "stream",
     "text": [
      "Optimization terminated successfully.\n",
      "         Current function value: 0.690184\n",
      "         Iterations 4\n"
     ]
    },
    {
     "data": {
      "text/html": [
       "<table class=\"simpletable\">\n",
       "<caption>Logit Regression Results</caption>\n",
       "<tr>\n",
       "  <th>Dep. Variable:</th>          <td>DV</td>        <th>  No. Observations:  </th>  <td> 62430</td>  \n",
       "</tr>\n",
       "<tr>\n",
       "  <th>Model:</th>                 <td>Logit</td>      <th>  Df Residuals:      </th>  <td> 62428</td>  \n",
       "</tr>\n",
       "<tr>\n",
       "  <th>Method:</th>                 <td>MLE</td>       <th>  Df Model:          </th>  <td>     1</td>  \n",
       "</tr>\n",
       "<tr>\n",
       "  <th>Date:</th>            <td>Fri, 12 May 2023</td> <th>  Pseudo R-squ.:     </th> <td>0.0002712</td>\n",
       "</tr>\n",
       "<tr>\n",
       "  <th>Time:</th>                <td>16:38:57</td>     <th>  Log-Likelihood:    </th> <td> -43088.</td> \n",
       "</tr>\n",
       "<tr>\n",
       "  <th>converged:</th>             <td>True</td>       <th>  LL-Null:           </th> <td> -43100.</td> \n",
       "</tr>\n",
       "<tr>\n",
       "  <th>Covariance Type:</th>     <td>nonrobust</td>    <th>  LLR p-value:       </th> <td>1.333e-06</td>\n",
       "</tr>\n",
       "</table>\n",
       "<table class=\"simpletable\">\n",
       "<tr>\n",
       "                  <td></td>                     <th>coef</th>     <th>std err</th>      <th>z</th>      <th>P>|z|</th>  <th>[0.025</th>    <th>0.975]</th>  \n",
       "</tr>\n",
       "<tr>\n",
       "  <th>Intercept</th>                         <td>    0.1365</td> <td>    0.008</td> <td>   16.151</td> <td> 0.000</td> <td>    0.120</td> <td>    0.153</td>\n",
       "</tr>\n",
       "<tr>\n",
       "  <th>C(demographic, Treatment(0))[T.1]</th> <td>    0.1308</td> <td>    0.027</td> <td>    4.825</td> <td> 0.000</td> <td>    0.078</td> <td>    0.184</td>\n",
       "</tr>\n",
       "</table>"
      ],
      "text/plain": [
       "<class 'statsmodels.iolib.summary.Summary'>\n",
       "\"\"\"\n",
       "                           Logit Regression Results                           \n",
       "==============================================================================\n",
       "Dep. Variable:                     DV   No. Observations:                62430\n",
       "Model:                          Logit   Df Residuals:                    62428\n",
       "Method:                           MLE   Df Model:                            1\n",
       "Date:                Fri, 12 May 2023   Pseudo R-squ.:               0.0002712\n",
       "Time:                        16:38:57   Log-Likelihood:                -43088.\n",
       "converged:                       True   LL-Null:                       -43100.\n",
       "Covariance Type:            nonrobust   LLR p-value:                 1.333e-06\n",
       "=====================================================================================================\n",
       "                                        coef    std err          z      P>|z|      [0.025      0.975]\n",
       "-----------------------------------------------------------------------------------------------------\n",
       "Intercept                             0.1365      0.008     16.151      0.000       0.120       0.153\n",
       "C(demographic, Treatment(0))[T.1]     0.1308      0.027      4.825      0.000       0.078       0.184\n",
       "=====================================================================================================\n",
       "\"\"\""
      ]
     },
     "execution_count": 85,
     "metadata": {},
     "output_type": "execute_result"
    }
   ],
   "source": [
    "# Run the regression\n",
    "\n",
    "log_reg = smf.logit(\"DV ~ C(demographic,Treatment(0))\", data=data).fit()\n",
    "log_reg.summary()"
   ]
  },
  {
   "cell_type": "code",
   "execution_count": 86,
   "id": "6e7e9afb",
   "metadata": {},
   "outputs": [
    {
     "name": "stdout",
     "output_type": "stream",
     "text": [
      "                                         OR  Lower CI  Upper CI\n",
      "Intercept                          1.146207  1.127382  1.165346\n",
      "C(demographic, Treatment(0))[T.1]  1.139752  1.080767  1.201956\n"
     ]
    }
   ],
   "source": [
    "# Convert to odds ratios\n",
    "\n",
    "odds_ratios = pd.DataFrame(\n",
    "    {\"OR\": log_reg.params,\n",
    "        \"Lower CI\": log_reg.conf_int()[0],\n",
    "        \"Upper CI\": log_reg.conf_int()[1]}\n",
    ")\n",
    "odds_ratios = np.exp(odds_ratios)\n",
    "print(odds_ratios)"
   ]
  },
  {
   "cell_type": "code",
   "execution_count": 87,
   "id": "bc628309",
   "metadata": {},
   "outputs": [
    {
     "data": {
      "image/png": "[encoded data removed]",
      "text/plain": [
       "<Figure size 720x576 with 1 Axes>"
      ]
     },
     "metadata": {
      "needs_background": "light"
     },
     "output_type": "display_data"
    }
   ],
   "source": [
    "# Plot  Figure 3D\n",
    "\n",
    "fig, ax = plt.subplots(figsize=(10, 8))\n",
    "\n",
    "change_lim=[]\n",
    "category=[]\n",
    "for p in range(len(tool_demo_all['demographic'])): \n",
    "    if tool_demo_all['demographic'][p]!='Not stated/Not known/Invalid':\n",
    "        change_lim.append(((np.array(tool_demo_all['post_tool'])[[p]].sum()/np.array(tool_demo_all['pre_tool'])[[p]].sum())-1)*100)\n",
    "        category.append(tool_demo_all['demographic'][p])\n",
    "\n",
    "x=[z for z in range(len(change_lim))]\n",
    "\n",
    "pl = plt.bar(x, [round(num) for num in change_lim], color = '#fdb6d3')\n",
    "\n",
    "\n",
    "ax.set_xticks(x, ['Asian or \\nAsian British', 'Black or \\nBlack British', 'Mixed', 'Other Ethnic \\ngroups', 'White'], fontsize=23, rotation=90, font = my_font)\n",
    "ax.set_ylabel('Percentage change (%)', fontsize=26, font = my_font, labelpad=15)\n",
    "\n",
    "ax.bar_label(pl,fontsize=24, font = my_font, padding = 8)\n",
    "\n",
    "ax.tick_params(axis='x', which='major', pad=15)\n",
    "\n",
    "plt.yticks(fontsize=20)\n",
    "\n",
    "plt.ylim(0,58)\n",
    "\n",
    "plt.axhline(15, color= '#595959', ls='--', linewidth = 2.5)\n",
    "\n",
    "\n",
    "image_format = 'png' # e.g .png, .svg, etc.\n",
    "image_name = folder_figures_save+'ethnic_group_separated_referrals.png'\n",
    "\n",
    "# fig.savefig(image_name, format=image_format, bbox_inches=\"tight\", dpi=1200)\n",
    "\n"
   ]
  },
  {
   "cell_type": "code",
   "execution_count": 88,
   "id": "04eccb4c",
   "metadata": {},
   "outputs": [],
   "source": [
    "# Change data to single-patient level\n",
    "change_variable=[]\n",
    "category=[]\n",
    "cat_order=['White',\n",
    "           'Black or Black British',\n",
    "           'Other Ethnic Groups',\n",
    "           'Mixed',\n",
    "           'Asian or Asian British',\n",
    "           'Not stated/Not known/Invalid'\n",
    "]\n",
    "\n",
    "for i in range(len(cat_order)): \n",
    "    p=cat_order[i]\n",
    "    a=np.array(tool_demo_all['demographic'])\n",
    "\n",
    "    ind=np.where(a==p)[0][0]\n",
    "    if tool_demo_all['demographic'][ind]!='Not stated/Not known/Invalid':\n",
    "        change_variable.append(np.array([0]*int(tool_demo_all['pre_tool'][ind]))) #pre tool 0 \n",
    "        change_variable.append(np.array([1]*int(tool_demo_all['post_tool'][ind]))) # post tool 1 \n",
    "\n",
    "        category.append(np.array([i]*int(tool_demo_all['pre_tool'][ind]+tool_demo_all['post_tool'][ind])))\n",
    "\n",
    "change_variable=np.array(list(deepflatten(change_variable)))\n",
    "category=np.array(list(deepflatten(category)))\n",
    "\n",
    "data=pd.DataFrame({'DV':change_variable, 'demographic':category})"
   ]
  },
  {
   "cell_type": "code",
   "execution_count": 89,
   "id": "f7b49dca",
   "metadata": {},
   "outputs": [
    {
     "name": "stdout",
     "output_type": "stream",
     "text": [
      "Optimization terminated successfully.\n",
      "         Current function value: 0.690090\n",
      "         Iterations 4\n"
     ]
    },
    {
     "data": {
      "text/html": [
       "<table class=\"simpletable\">\n",
       "<caption>Logit Regression Results</caption>\n",
       "<tr>\n",
       "  <th>Dep. Variable:</th>          <td>DV</td>        <th>  No. Observations:  </th>  <td> 62430</td>  \n",
       "</tr>\n",
       "<tr>\n",
       "  <th>Model:</th>                 <td>Logit</td>      <th>  Df Residuals:      </th>  <td> 62425</td>  \n",
       "</tr>\n",
       "<tr>\n",
       "  <th>Method:</th>                 <td>MLE</td>       <th>  Df Model:          </th>  <td>     4</td>  \n",
       "</tr>\n",
       "<tr>\n",
       "  <th>Date:</th>            <td>Fri, 12 May 2023</td> <th>  Pseudo R-squ.:     </th> <td>0.0004066</td>\n",
       "</tr>\n",
       "<tr>\n",
       "  <th>Time:</th>                <td>16:39:01</td>     <th>  Log-Likelihood:    </th> <td> -43082.</td> \n",
       "</tr>\n",
       "<tr>\n",
       "  <th>converged:</th>             <td>True</td>       <th>  LL-Null:           </th> <td> -43100.</td> \n",
       "</tr>\n",
       "<tr>\n",
       "  <th>Covariance Type:</th>     <td>nonrobust</td>    <th>  LLR p-value:       </th> <td>4.548e-07</td>\n",
       "</tr>\n",
       "</table>\n",
       "<table class=\"simpletable\">\n",
       "<tr>\n",
       "                  <td></td>                     <th>coef</th>     <th>std err</th>      <th>z</th>      <th>P>|z|</th>  <th>[0.025</th>    <th>0.975]</th>  \n",
       "</tr>\n",
       "<tr>\n",
       "  <th>Intercept</th>                         <td>    0.1365</td> <td>    0.008</td> <td>   16.151</td> <td> 0.000</td> <td>    0.120</td> <td>    0.153</td>\n",
       "</tr>\n",
       "<tr>\n",
       "  <th>C(demographic, Treatment(0))[T.1]</th> <td>    0.2113</td> <td>    0.056</td> <td>    3.801</td> <td> 0.000</td> <td>    0.102</td> <td>    0.320</td>\n",
       "</tr>\n",
       "<tr>\n",
       "  <th>C(demographic, Treatment(0))[T.2]</th> <td>    0.0749</td> <td>    0.085</td> <td>    0.884</td> <td> 0.377</td> <td>   -0.091</td> <td>    0.241</td>\n",
       "</tr>\n",
       "<tr>\n",
       "  <th>C(demographic, Treatment(0))[T.3]</th> <td>    0.0074</td> <td>    0.048</td> <td>    0.155</td> <td> 0.877</td> <td>   -0.086</td> <td>    0.101</td>\n",
       "</tr>\n",
       "<tr>\n",
       "  <th>C(demographic, Treatment(0))[T.4]</th> <td>    0.1928</td> <td>    0.042</td> <td>    4.557</td> <td> 0.000</td> <td>    0.110</td> <td>    0.276</td>\n",
       "</tr>\n",
       "</table>"
      ],
      "text/plain": [
       "<class 'statsmodels.iolib.summary.Summary'>\n",
       "\"\"\"\n",
       "                           Logit Regression Results                           \n",
       "==============================================================================\n",
       "Dep. Variable:                     DV   No. Observations:                62430\n",
       "Model:                          Logit   Df Residuals:                    62425\n",
       "Method:                           MLE   Df Model:                            4\n",
       "Date:                Fri, 12 May 2023   Pseudo R-squ.:               0.0004066\n",
       "Time:                        16:39:01   Log-Likelihood:                -43082.\n",
       "converged:                       True   LL-Null:                       -43100.\n",
       "Covariance Type:            nonrobust   LLR p-value:                 4.548e-07\n",
       "=====================================================================================================\n",
       "                                        coef    std err          z      P>|z|      [0.025      0.975]\n",
       "-----------------------------------------------------------------------------------------------------\n",
       "Intercept                             0.1365      0.008     16.151      0.000       0.120       0.153\n",
       "C(demographic, Treatment(0))[T.1]     0.2113      0.056      3.801      0.000       0.102       0.320\n",
       "C(demographic, Treatment(0))[T.2]     0.0749      0.085      0.884      0.377      -0.091       0.241\n",
       "C(demographic, Treatment(0))[T.3]     0.0074      0.048      0.155      0.877      -0.086       0.101\n",
       "C(demographic, Treatment(0))[T.4]     0.1928      0.042      4.557      0.000       0.110       0.276\n",
       "=====================================================================================================\n",
       "\"\"\""
      ]
     },
     "execution_count": 89,
     "metadata": {},
     "output_type": "execute_result"
    }
   ],
   "source": [
    "# Run the regression\n",
    "\n",
    "log_reg = smf.logit(\"DV ~ C(demographic,Treatment(0))\", data=data).fit()\n",
    "log_reg.summary()"
   ]
  },
  {
   "cell_type": "code",
   "execution_count": 90,
   "id": "df929d52",
   "metadata": {},
   "outputs": [
    {
     "name": "stdout",
     "output_type": "stream",
     "text": [
      "                                         OR  Lower CI  Upper CI\n",
      "Intercept                          1.146207  1.127382  1.165346\n",
      "C(demographic, Treatment(0))[T.1]  1.235318  1.107777  1.377542\n",
      "C(demographic, Treatment(0))[T.2]  1.077724  0.912943  1.272247\n",
      "C(demographic, Treatment(0))[T.3]  1.007464  0.917215  1.106592\n",
      "C(demographic, Treatment(0))[T.4]  1.212696  1.116171  1.317568\n"
     ]
    }
   ],
   "source": [
    "# Convert to odds ratios\n",
    "odds_ratios = pd.DataFrame(\n",
    "    {\"OR\": log_reg.params,\n",
    "        \"Lower CI\": log_reg.conf_int()[0],\n",
    "        \"Upper CI\": log_reg.conf_int()[1]}\n",
    ")\n",
    "odds_ratios = np.exp(odds_ratios)\n",
    "print(odds_ratios)"
   ]
  },
  {
   "cell_type": "code",
   "execution_count": null,
   "id": "7c67f195",
   "metadata": {},
   "outputs": [],
   "source": []
  }
 ],
 "metadata": {
  "kernelspec": {
   "display_name": "Python 3 (ipykernel)",
   "language": "python",
   "name": "python3"
  },
  "language_info": {
   "codemirror_mode": {
    "name": "ipython",
    "version": 3
   },
   "file_extension": ".py",
   "mimetype": "text/x-python",
   "name": "python",
   "nbconvert_exporter": "python",
   "pygments_lexer": "ipython3",
   "version": "3.9.12"
  },
  "vscode": {
   "interpreter": {
    "hash": "b7ded74e23871975af00551aa55b74d4746f773ee7e7fff357f4af4bd444edf6"
   }
  }
 },
 "nbformat": 4,
 "nbformat_minor": 5
}
