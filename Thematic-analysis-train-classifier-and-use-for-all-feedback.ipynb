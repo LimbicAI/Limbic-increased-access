{
 "cells": [
  {
   "cell_type": "code",
   "execution_count": 2,
   "metadata": {},
   "outputs": [],
   "source": [
    "### Load all relevant libraries\n",
    "\n",
    "import pandas as pd\n",
    "import numpy as np\n",
    "from sentence_transformers import SentenceTransformer\n",
    "from sklearn.decomposition import PCA\n",
    "from sklearn.linear_model import LogisticRegression\n",
    "from sklearn.metrics import f1_score, recall_score, precision_score\n",
    "from sklearn.model_selection import KFold\n",
    "from iteration_utilities import deepflatten"
   ]
  },
  {
   "cell_type": "code",
   "execution_count": 26,
   "metadata": {},
   "outputs": [],
   "source": [
    "### Load the sentence transformer model that transforms text into a numerical representation \n",
    "sbert_model = SentenceTransformer('nli-bert-large-max-pooling')\n"
   ]
  },
  {
   "cell_type": "code",
   "execution_count": 27,
   "metadata": {},
   "outputs": [
    {
     "name": "stderr",
     "output_type": "stream",
     "text": [
      "/var/folders/2x/1pj9_k6n35l_s8ygvsr_lq6h0000gn/T/ipykernel_18686/3194392475.py:11: SettingWithCopyWarning: \n",
      "A value is trying to be set on a copy of a slice from a DataFrame\n",
      "\n",
      "See the caveats in the documentation: https://pandas.pydata.org/pandas-docs/stable/user_guide/indexing.html#returning-a-view-versus-a-copy\n",
      "  data_neutral['themes'][data_neutral['themes']==\"undefined\"]=\"neutral undefined\"\n",
      "/var/folders/2x/1pj9_k6n35l_s8ygvsr_lq6h0000gn/T/ipykernel_18686/3194392475.py:18: SettingWithCopyWarning: \n",
      "A value is trying to be set on a copy of a slice from a DataFrame\n",
      "\n",
      "See the caveats in the documentation: https://pandas.pydata.org/pandas-docs/stable/user_guide/indexing.html#returning-a-view-versus-a-copy\n",
      "  data_negative['themes'][data_negative['themes']==\"undefined\"]=\"negative undefined\"\n"
     ]
    }
   ],
   "source": [
    "### Load data labelled for training\n",
    "\n",
    "# this is not made available due to privacy and consent of the participants!\n",
    "\n",
    "# here a dataset with positive feedback is loaded\n",
    "data_positive=data_positive[data_positive['themes'].isna()==False]\n",
    "data_positive.reset_index(inplace=True)\n",
    "data_positive['feedback_type'] = 'positive'\n",
    "\n",
    "# here a dataset with neutral feedback is loaded\n",
    "data_neutral=data_neutral[data_neutral['themes'].isna()==False]\n",
    "data_neutral.reset_index(inplace=True)\n",
    "data_neutral['themes'][data_neutral['themes']==\"undefined\"]=\"neutral undefined\"\n",
    "data_neutral['feedback_type'] = 'neutral'\n",
    "\n",
    "# here a dataset with negative feedback is loaded\n",
    "data_negative=data_negative[data_negative['themes'].isna()==False]\n",
    "data_negative.reset_index(inplace=True)\n",
    "data_negative['themes'][data_negative['themes']==\"undefined\"]=\"negative undefined\"\n",
    "data_negative['feedback_type'] = 'negative'\n",
    "\n",
    "data=pd.concat([data_positive, data_neutral,data_negative], axis=0)\n",
    "data.reset_index(inplace=True)"
   ]
  },
  {
   "cell_type": "code",
   "execution_count": 28,
   "metadata": {},
   "outputs": [
    {
     "data": {
      "text/plain": [
       "Help at the time of need that was given fast and easy to use                 180\n",
       "They felt that they were in crisis and needed immediate attention.            90\n",
       "A hopeful first-step to care that was thoughtfully designed                   61\n",
       "negative undefined                                                            61\n",
       "As they needed to talk about specific illnesses or other mental disorders     55\n",
       "Provided a self realisation of their current situation                        53\n",
       "As they expected to start therapy faster                                      53\n",
       "A friendly companion that removes anxiety of talking to humans                52\n",
       "neutral undefined                                                             52\n",
       "Name: themes, dtype: int64"
      ]
     },
     "execution_count": 28,
     "metadata": {},
     "output_type": "execute_result"
    }
   ],
   "source": [
    "### Check frequency of each label category\n",
    "data['themes'].value_counts()"
   ]
  },
  {
   "cell_type": "code",
   "execution_count": 30,
   "metadata": {},
   "outputs": [
    {
     "data": {
      "application/vnd.jupyter.widget-view+json": {
       "model_id": "b36280e68c5d403faaa7bf662fb61998",
       "version_major": 2,
       "version_minor": 0
      },
      "text/plain": [
       "Batches:   0%|          | 0/21 [00:00<?, ?it/s]"
      ]
     },
     "metadata": {},
     "output_type": "display_data"
    }
   ],
   "source": [
    "### Transform text into numerical representation (i.e. apply the sentence embedding)\n",
    "\n",
    "vec_text=sbert_model.encode(data['body'], show_progress_bar=True)\n"
   ]
  },
  {
   "cell_type": "code",
   "execution_count": 31,
   "metadata": {},
   "outputs": [],
   "source": [
    "### Reduce dimensionality of sentence embedding (i.e. from 1024 to 50 dimensions)\n",
    "\n",
    "pca = PCA(n_components=50, random_state=42)\n",
    "pca_embeddings = pca.fit_transform(vec_text)\n"
   ]
  },
  {
   "cell_type": "code",
   "execution_count": 32,
   "metadata": {},
   "outputs": [],
   "source": [
    "### add the feedback type to the input data\n",
    "\n",
    "def one_hot_encode(data): \n",
    "    data=pd.get_dummies(data, columns=['feedback_type'])\n",
    "    return data\n",
    "\n",
    "data=one_hot_encode(data)\n",
    "input_data=np.concatenate([pca_embeddings, data[['feedback_type_negative', 'feedback_type_neutral', 'feedback_type_positive']].values], axis=1)\n",
    "\n"
   ]
  },
  {
   "cell_type": "code",
   "execution_count": 33,
   "metadata": {},
   "outputs": [],
   "source": [
    "### Map categorical labels (i.e. text) into numerical labels\n",
    "\n",
    "mapper={a:i for i, a in enumerate(data['themes'].unique())}\n",
    "labels=data['themes'].map(lambda x: mapper[x]).values\n"
   ]
  },
  {
   "cell_type": "code",
   "execution_count": 40,
   "metadata": {},
   "outputs": [],
   "source": [
    "### Define the number of slpits for the crossvalidation (here 100)\n",
    "kf=KFold(n_splits=100)\n",
    "\n",
    "### Define the classification model used for the multi-class classification (here a simple logistic regression)\n",
    "estimator = LogisticRegression(multi_class=\"multinomial\", random_state=42, max_iter=1000)\n",
    "\n",
    "\n",
    "y_pred=[]\n",
    "ground_truth=[]\n",
    "f1_score_fold=[]\n",
    "### Split the data into training and testing data set\n",
    "for i, (train_index, test_index) in enumerate(kf.split(input_data)):\n",
    "    X_train, X_test = input_data[train_index], input_data[test_index]\n",
    "    y_train, y_test = labels[train_index], labels[test_index]\n",
    "\n",
    "    ### Fit the model \n",
    "    estimator.fit(X_train,y_train)\n",
    "\n",
    "    ### get model prediction for the test data \n",
    "    y_hat=estimator.predict(X_test)\n",
    "\n",
    "    ### Save data\n",
    "    y_pred.append(y_hat)\n",
    "    ground_truth.append(y_test)\n",
    "    f1_score_fold.append(f1_score(y_test,y_hat, average='micro'))\n",
    "\n",
    "\n",
    "### bring saved data into the right format\n",
    "y_pred=np.array(list(deepflatten(y_pred)))\n",
    "ground_truth=np.array(list(deepflatten(ground_truth)))\n",
    "f1_score_fold=np.array(f1_score_fold)\n"
   ]
  },
  {
   "cell_type": "code",
   "execution_count": 41,
   "metadata": {},
   "outputs": [
    {
     "name": "stdout",
     "output_type": "stream",
     "text": [
      "0.644047619047619\n",
      "F1-score: [0.49152542 0.54368932 0.76216216 0.53465347 0.71698113 0.73873874\n",
      " 0.54368932 0.66666667 0.52459016]\n",
      "Recall-score: [0.47540984 0.53846154 0.78333333 0.50943396 0.71698113 0.74545455\n",
      " 0.53846154 0.66666667 0.52459016]\n",
      "Precision-score: [0.50877193 0.54901961 0.74210526 0.5625     0.71698113 0.73214286\n",
      " 0.54901961 0.66666667 0.52459016]\n"
     ]
    }
   ],
   "source": [
    "### Evaluate model performance\n",
    "\n",
    "print(f1_score_fold.mean()) # micro-average F1 score\n",
    "\n",
    "print(f\"F1-score: {f1_score(ground_truth,y_pred, average=None)}\")\n",
    "print(f\"Recall-score: {recall_score(ground_truth,y_pred, average=None)}\")\n",
    "print(f\"Precision-score: {precision_score(ground_truth,y_pred, average=None)}\")\n"
   ]
  },
  {
   "cell_type": "code",
   "execution_count": 12,
   "metadata": {},
   "outputs": [
    {
     "data": {
      "text/plain": [
       "LogisticRegression(max_iter=1000, multi_class='multinomial', random_state=42)"
      ]
     },
     "execution_count": 12,
     "metadata": {},
     "output_type": "execute_result"
    }
   ],
   "source": [
    "### Fit final model based on all available data (this model us used for predicting labels in a new data set)\n",
    "\n",
    "model_use = LogisticRegression(multi_class=\"multinomial\", random_state=42, max_iter=1000)\n",
    "model_use.fit(input_data,labels)\n"
   ]
  },
  {
   "cell_type": "markdown",
   "metadata": {},
   "source": [
    "## Load feedback data, transform text into numberical, pca, and then apply the model"
   ]
  },
  {
   "cell_type": "code",
   "execution_count": 13,
   "metadata": {},
   "outputs": [],
   "source": [
    "### Load user feedback\n",
    "\n",
    "# here a dataset with all feedback is loaded\n",
    "\n",
    "# change the feedback into positive, neutral and negative\n",
    "\n",
    "mapper_feedback_type={'Yes': 'positive',\n",
    "             'Needed more': 'neutral',\n",
    "             \"No\":'negative'}\n",
    "\n",
    "df['feedback_type']=df['isHelpful'].map(lambda x: mapper_feedback_type[x]).values"
   ]
  },
  {
   "cell_type": "code",
   "execution_count": 14,
   "metadata": {},
   "outputs": [
    {
     "data": {
      "application/vnd.jupyter.widget-view+json": {
       "model_id": "666610c41ed44329a93bef75eff2a9f7",
       "version_major": 2,
       "version_minor": 0
      },
      "text/plain": [
       "Batches:   0%|          | 0/1443 [00:00<?, ?it/s]"
      ]
     },
     "metadata": {},
     "output_type": "display_data"
    }
   ],
   "source": [
    "### Transform text into numerical representation (i.e. apply the sentence embedding)\n",
    "\n",
    "vec_text_feedback=sbert_model.encode(df['feedback'], show_progress_bar=True)"
   ]
  },
  {
   "cell_type": "code",
   "execution_count": 16,
   "metadata": {},
   "outputs": [],
   "source": [
    "### apply the same pca as before \n",
    "\n",
    "pca_embeddings_feedback = pca.transform(vec_text_feedback)\n",
    "\n",
    "\n",
    "## add the feedback type\n",
    "df=one_hot_encode(df)\n",
    "input_data_real=np.concatenate([pca_embeddings_feedback, df[['feedback_type_negative', 'feedback_type_neutral', 'feedback_type_positive']].values], axis=1)\n",
    "\n",
    "\n",
    "### predict label based on the input data\n",
    "\n",
    "predicted_labels = model_use.predict(input_data_real)\n",
    "\n",
    "df['label_nr'] = predicted_labels\n",
    "theme_mapping = {index: name for index, name in enumerate(data['themes'].unique())}\n",
    "df['label_name'] = df['label_nr'].map(lambda x: theme_mapping[x]).values"
   ]
  },
  {
   "cell_type": "code",
   "execution_count": 17,
   "metadata": {},
   "outputs": [
    {
     "data": {
      "text/plain": [
       "Help at the time of need that was given fast and easy to use                 27334\n",
       "A hopeful first-step to care that was thoughtfully designed                   6589\n",
       "A friendly companion that removes anxiety of talking to humans                3936\n",
       "Provided a self realisation of their current situation                        3511\n",
       "As they needed to talk about specific illnesses or other mental disorders     1713\n",
       "neutral undefined                                                             1382\n",
       "As they expected to start therapy faster                                       863\n",
       "They felt that they were in crisis and needed immediate attention.             522\n",
       "negative undefined                                                             315\n",
       "Name: label_name, dtype: int64"
      ]
     },
     "execution_count": 17,
     "metadata": {},
     "output_type": "execute_result"
    }
   ],
   "source": [
    "df['label_name'].value_counts()\n"
   ]
  },
  {
   "cell_type": "code",
   "execution_count": 18,
   "metadata": {},
   "outputs": [],
   "source": [
    "## save the dataset with labels\n"
   ]
  },
  {
   "cell_type": "code",
   "execution_count": null,
   "metadata": {},
   "outputs": [],
   "source": []
  }
 ],
 "metadata": {
  "kernelspec": {
   "display_name": "Python 3 (ipykernel)",
   "language": "python",
   "name": "python3"
  },
  "language_info": {
   "codemirror_mode": {
    "name": "ipython",
    "version": 3
   },
   "file_extension": ".py",
   "mimetype": "text/x-python",
   "name": "python",
   "nbconvert_exporter": "python",
   "pygments_lexer": "ipython3",
   "version": "3.9.12"
  },
  "vscode": {
   "interpreter": {
    "hash": "27da6d6b59727646a574a98fea65a7d05a25cdf971204dedd422fbd99f57f3b6"
   }
  }
 },
 "nbformat": 4,
 "nbformat_minor": 2
}
